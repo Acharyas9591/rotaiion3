{
 "cells": [
  {
   "cell_type": "code",
   "execution_count": 1,
   "id": "db9fa9df",
   "metadata": {},
   "outputs": [
    {
     "name": "stdout",
     "output_type": "stream",
     "text": [
      "Given Strings are rotations of each other.\n"
     ]
    }
   ],
   "source": [
    "def checkRotation(s1, s2): \n",
    "    temp = '' \n",
    "  \n",
    "    if len(s1) != len(s2): \n",
    "        return False\n",
    "  \n",
    "    temp = s1 + s1 \n",
    "  \n",
    "    \n",
    "    if s2 in temp: \n",
    "        return True \n",
    "    else:\n",
    "        return False\n",
    "  \n",
    "\n",
    "string1 = \"HELLO\"\n",
    "string2 = \"LOHEL\"\n",
    "  \n",
    "if checkRotation(string1, string2): \n",
    "    print(\"Given Strings are rotations of each other.\")\n",
    "else: \n",
    "    print(\"Given Strings are not rotations of each other.\")"
   ]
  },
  {
   "cell_type": "code",
   "execution_count": null,
   "id": "771d3cad",
   "metadata": {},
   "outputs": [],
   "source": []
  }
 ],
 "metadata": {
  "kernelspec": {
   "display_name": "Python 3 (ipykernel)",
   "language": "python",
   "name": "python3"
  },
  "language_info": {
   "codemirror_mode": {
    "name": "ipython",
    "version": 3
   },
   "file_extension": ".py",
   "mimetype": "text/x-python",
   "name": "python",
   "nbconvert_exporter": "python",
   "pygments_lexer": "ipython3",
   "version": "3.9.12"
  }
 },
 "nbformat": 4,
 "nbformat_minor": 5
}
